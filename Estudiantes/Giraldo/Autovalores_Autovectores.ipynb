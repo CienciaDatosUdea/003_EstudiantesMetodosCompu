{
  "nbformat": 4,
  "nbformat_minor": 0,
  "metadata": {
    "colab": {
      "provenance": []
    },
    "kernelspec": {
      "name": "python3",
      "display_name": "Python 3"
    },
    "language_info": {
      "name": "python"
    }
  },
  "cells": [
    {
      "cell_type": "code",
      "source": [
        "import numpy as np\n",
        "\n",
        "def calcular_autovalores_autovectores(A):\n",
        "    a, b = A[0, 0], A[0, 1]\n",
        "    c, d = A[1, 0], A[1, 1]\n",
        "\n",
        "    # Resolver el polinomio característico |A - λI| = 0\n",
        "    coef_2 = - (a + d)  # Coeficiente de λ\n",
        "    coef_1 = (a * d - b * c)  # Término independiente\n",
        "\n",
        "    # Resolver la ecuación cuadrática λ^2 + coef_2*λ + coef_1 = 0\n",
        "    discriminante = coef_2 ** 2 - 4 * coef_1\n",
        "\n",
        "    if discriminante < 0:\n",
        "        raiz_discriminante = complex(0, (-discriminante) ** 0.5) #la funcion complex para los números complejos que puedan resultar\n",
        "    else:\n",
        "        raiz_discriminante = discriminante ** 0.5\n",
        "\n",
        "    lambda1 = (-coef_2 + raiz_discriminante) / 2\n",
        "    lambda2 = (-coef_2 - raiz_discriminante) / 2\n",
        "    autovalores = [lambda1, lambda2]\n",
        "\n",
        "    # Encontrar los autovectores resolviendo (A - λI)x = 0\n",
        "    autovectores = []\n",
        "    for autovalor in autovalores:\n",
        "        M = np.array([[a - autovalor, b], [c, d - autovalor]], dtype=complex)\n",
        "\n",
        "        # Resolver sistema (M * v = 0) eligiendo la fila con mayor coeficiente\n",
        "        if abs(M[0, 0]) > abs(M[1, 0]):\n",
        "            v = np.array([[-M[0, 1]], [1]]) if M[0, 1] != 0 else np.array([[1], [0]])\n",
        "        else:\n",
        "            v = np.array([[1], [-M[1, 0]]]) if M[1, 0] != 0 else np.array([[0], [1]])\n",
        "\n",
        "        # Normalización\n",
        "        v = v / np.linalg.norm(v)\n",
        "        autovectores.append(v)\n",
        "\n",
        "    return autovalores, autovectores\n",
        "\n",
        "# Generar una matriz aleatoria\n",
        "A = np.random.randint(-100, 100, (2, 2))\n",
        "print(\"Matriz original:\")\n",
        "print(A)\n",
        "\n",
        "# Calcular autovalores y autovectores\n",
        "autovalores, autovectores = calcular_autovalores_autovectores(A)\n",
        "print(\"Autovalores:\")\n",
        "print(autovalores)\n",
        "print(\"Autovectores:\")\n",
        "for v in autovectores:\n",
        "    print(v)\n"
      ],
      "metadata": {
        "colab": {
          "base_uri": "https://localhost:8080/"
        },
        "id": "qTEdufIQZw3t",
        "outputId": "66a452ae-6c72-4a98-9628-e7af95be7a08"
      },
      "execution_count": null,
      "outputs": [
        {
          "output_type": "stream",
          "name": "stdout",
          "text": [
            "Matriz original:\n",
            "[[ 66  97]\n",
            " [-56  -5]]\n",
            "Autovalores:\n",
            "[np.complex128(30.5+64.58908576532106j), np.complex128(30.5-64.58908576532106j)]\n",
            "Autovectores:\n",
            "[[-0.99994686+0.j]\n",
            " [ 0.01030873+0.j]]\n",
            "[[-0.99994686+0.j]\n",
            " [ 0.01030873+0.j]]\n"
          ]
        }
      ]
    }
  ]
}