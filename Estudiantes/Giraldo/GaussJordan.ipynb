{
  "nbformat": 4,
  "nbformat_minor": 0,
  "metadata": {
    "colab": {
      "provenance": []
    },
    "kernelspec": {
      "name": "python3",
      "display_name": "Python 3"
    },
    "language_info": {
      "name": "python"
    }
  },
  "cells": [
    {
      "cell_type": "code",
      "execution_count": null,
      "metadata": {
        "colab": {
          "base_uri": "https://localhost:8080/"
        },
        "id": "Z4hLa3PMSRMi",
        "outputId": "79c11f97-fb93-480c-ce9c-bf613c2f01d8"
      },
      "outputs": [
        {
          "output_type": "stream",
          "name": "stdout",
          "text": [
            "Matriz original:\n",
            "[[-18 -97]\n",
            " [-51 -31]]\n",
            "Matriz reducida por Gauss-Jordan:\n",
            "[[1 0]\n",
            " [0 1]]\n"
          ]
        }
      ],
      "source": [
        "import numpy as np\n",
        "\n",
        "def gauss_jordan(A):\n",
        "    fil, col = A.shape\n",
        "\n",
        "    for i in range(fil):\n",
        "        # Hacer el pivote 1 dividiendo toda la fila\n",
        "        pivote = A[i, i]\n",
        "        if pivote == 0:\n",
        "            # Buscar una fila para intercambiar si el pivote es 0\n",
        "            for k in range(i + 1, fil):\n",
        "                if A[k, i] != 0:\n",
        "                    A[[i, k]] = A[[k, i]]  # Intercambio de filas\n",
        "                    pivote = A[i, i]\n",
        "                    break\n",
        "        A[i] = A[i] / pivote  # Normalizar fila actual\n",
        "\n",
        "        # Hacer ceros en la columna del pivote\n",
        "        for j in range(fil):\n",
        "            if i != j:\n",
        "                factor = A[j, i]\n",
        "                A[j] -= factor * A[i]\n",
        "\n",
        "    return A\n",
        "\n",
        "# Generar una matriz aleatoria\n",
        "A = np.random.randint(-100, 100, (2, 2))\n",
        "print(\"Matriz original:\")\n",
        "print(A)\n",
        "\n",
        "# Aplicar Gauss-Jordan\n",
        "A_red = gauss_jordan(A.copy())\n",
        "print(\"Matriz reducida por Gauss-Jordan:\")\n",
        "print(A_red)\n"
      ]
    }
  ]
}