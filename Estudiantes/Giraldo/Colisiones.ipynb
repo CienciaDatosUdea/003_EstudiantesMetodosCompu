{
  "nbformat": 4,
  "nbformat_minor": 0,
  "metadata": {
    "colab": {
      "provenance": []
    },
    "kernelspec": {
      "name": "python3",
      "display_name": "Python 3"
    },
    "language_info": {
      "name": "python"
    }
  },
  "cells": [
    {
      "cell_type": "code",
      "execution_count": null,
      "metadata": {
        "colab": {
          "base_uri": "https://localhost:8080/"
        },
        "id": "c95v9zftMWsL",
        "outputId": "d2baec21-0e3a-44b7-84d4-dcf335236310"
      },
      "outputs": [
        {
          "output_type": "execute_result",
          "data": {
            "text/plain": [
              "314159"
            ]
          },
          "metadata": {},
          "execution_count": 1
        }
      ],
      "source": [
        "import numpy as np\n",
        "import matplotlib.pyplot as plt\n",
        "\n",
        "def rap_col1(m1, m2, v1, v2):\n",
        "  v1c=((2*m2*v2)+((m1-m2)*v1))/(m1+m2)\n",
        "  return v1c\n",
        "\n",
        "def rap_col2(m1, m2, v1, v2):\n",
        "  v2c=((2*m1*v1)+((m2-m1)*v2))/(m1+m2)\n",
        "  return v2c\n",
        "\n",
        "\n",
        "v1 = 0\n",
        "v2 = 30\n",
        "m1 = 1\n",
        "m2 = 1E10\n",
        "\n",
        "flag = True\n",
        "colisiones = 0\n",
        "i=0\n",
        "while flag:  # Condición de colisión\n",
        "      i=i+1\n",
        "      # Primera colision\n",
        "      v1_final = rap_col1(m1, m2, v1, v2)\n",
        "      v2_final = rap_col2(m1, m2, v1, v2)\n",
        "      colisiones = colisiones+ 1\n",
        "\n",
        "      v1p = v1_final\n",
        "      v2p = v2_final\n",
        "      if( abs(v2p)-abs(v1p) >=0 and (round(v2p) <= 0 and round(v1p) <= 0)):\n",
        "        flag = False\n",
        "      else:\n",
        "        # Segundo Colison\n",
        "        v1 = -v1p\n",
        "        v2 = v2p\n",
        "        colisiones = colisiones + 1\n",
        "\n",
        "colisiones"
      ]
    }
  ]
}