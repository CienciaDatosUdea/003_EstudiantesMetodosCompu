{
 "cells": [
  {
   "cell_type": "code",
   "execution_count": null,
   "metadata": {
    "id": "1pS9c6tfJ9Vs"
   },
   "outputs": [],
   "source": [
    "import numpy as np\n",
    "import matplotlib.pylab as plt\n"
   ]
  },
  {
   "cell_type": "code",
   "execution_count": null,
   "metadata": {
    "id": "Rm0Ck138KVWj"
   },
   "outputs": [],
   "source": [
    "np.random.seed(10)\n",
    "A = np.random.randint(-100, 100, (3,3))\n",
    "B = np.random.randint(-100, 100, (3,3))"
   ]
  },
  {
   "cell_type": "code",
   "execution_count": null,
   "metadata": {
    "colab": {
     "base_uri": "https://localhost:8080/"
    },
    "collapsed": true,
    "id": "k8WCsxz4P-EC",
    "outputId": "f4edc33e-8fe7-410a-ce38-49180afbe63b"
   },
   "outputs": [
    {
     "data": {
      "text/plain": [
       "EigResult(eigenvalues=array([-57.15704467+67.24854986j, -57.15704467-67.24854986j,\n",
       "        49.31408933 +0.j        ]), eigenvectors=array([[ 0.74892185+0.j        ,  0.74892185-0.j        ,\n",
       "        -0.2777394 +0.j        ],\n",
       "       [ 0.1614085 +0.31827628j,  0.1614085 -0.31827628j,\n",
       "         0.69523093+0.j        ],\n",
       "       [-0.25071195-0.4989059j , -0.25071195+0.4989059j ,\n",
       "         0.66295911+0.j        ]]))"
      ]
     },
     "execution_count": 4,
     "metadata": {},
     "output_type": "execute_result"
    }
   ],
   "source": [
    "np.linalg.eig(A)"
   ]
  },
  {
   "cell_type": "code",
   "execution_count": null,
   "metadata": {
    "id": "XvQfxDWnY0H1"
   },
   "outputs": [],
   "source": [
    "auto, autovev = np.linalg.eig(A)"
   ]
  },
  {
   "cell_type": "markdown",
   "metadata": {
    "id": "-V0txcueQ0Tl"
   },
   "source": [
    "$det (A-\\lambda I)$"
   ]
  },
  {
   "cell_type": "code",
   "execution_count": null,
   "metadata": {
    "colab": {
     "base_uri": "https://localhost:8080/"
    },
    "collapsed": true,
    "id": "cvvo3mjlY3Rp",
    "outputId": "a02d7844-189b-4c60-cb9d-bedf918e36ae"
   },
   "outputs": [
    {
     "data": {
      "text/plain": [
       "array([[-57.+67.j,  -0. -0.j,  -0. -0.j],\n",
       "       [ -0. +0.j, -57.-67.j,  -0. +0.j],\n",
       "       [ -0. -0.j,  -0. +0.j,  49. -0.j]])"
      ]
     },
     "execution_count": 6,
     "metadata": {},
     "output_type": "execute_result"
    }
   ],
   "source": [
    "np.round(np.linalg.inv(autovev)@A@autovev)"
   ]
  },
  {
   "cell_type": "code",
   "execution_count": null,
   "metadata": {
    "id": "FPsSe666Y_lb"
   },
   "outputs": [],
   "source": [
    "import sympy as sp"
   ]
  },
  {
   "cell_type": "code",
   "execution_count": null,
   "metadata": {
    "id": "SWzgtep_ZynW"
   },
   "outputs": [],
   "source": [
    "λ=sp.Symbol(\"λ\")\n",
    "A1 = sp.Matrix(A)\n",
    "I = sp.Matrix(np.identity(3))\n",
    "M = A1-λ*I"
   ]
  },
  {
   "cell_type": "code",
   "execution_count": null,
   "metadata": {
    "colab": {
     "base_uri": "https://localhost:8080/",
     "height": 78
    },
    "id": "glDKsUFVZ1SF",
    "outputId": "19d050a6-1731-470a-e4df-6b8d7439d1cc"
   },
   "outputs": [
    {
     "data": {
      "text/latex": [
       "$\\displaystyle \\left[\\begin{matrix}- 1.0 λ - 91 & 25 & -85\\\\-36 & 13 - 1.0 λ & 23\\\\56 & 57 & 13 - 1.0 λ\\end{matrix}\\right]$"
      ],
      "text/plain": [
       "Matrix([\n",
       "[-1.0*λ - 91,         25,        -85],\n",
       "[        -36, 13 - 1.0*λ,         23],\n",
       "[         56,         57, 13 - 1.0*λ]])"
      ]
     },
     "execution_count": 9,
     "metadata": {},
     "output_type": "execute_result"
    }
   ],
   "source": [
    "M"
   ]
  },
  {
   "cell_type": "code",
   "execution_count": null,
   "metadata": {
    "colab": {
     "base_uri": "https://localhost:8080/",
     "height": 38
    },
    "id": "3gudG8wMaFhz",
    "outputId": "f106c117-7203-4db4-a7bb-87da51d4a7e0"
   },
   "outputs": [
    {
     "data": {
      "text/latex": [
       "$\\displaystyle - 1.0 λ^{3} - 65.0 λ^{2} - 2152.0 λ + 384122$"
      ],
      "text/plain": [
       "-1.0*λ**3 - 65.0*λ**2 - 2152.0*λ + 384122"
      ]
     },
     "execution_count": 10,
     "metadata": {},
     "output_type": "execute_result"
    }
   ],
   "source": [
    "sp.det(M)"
   ]
  },
  {
   "cell_type": "code",
   "execution_count": null,
   "metadata": {
    "id": "5Cv215oBah0c"
   },
   "outputs": [],
   "source": [
    "P, D = A1.diagonalize()"
   ]
  },
  {
   "cell_type": "code",
   "execution_count": null,
   "metadata": {
    "colab": {
     "base_uri": "https://localhost:8080/",
     "height": 144
    },
    "id": "m0fr6VywasZr",
    "outputId": "3222349c-ccca-4568-93c0-eb869c46fe2a"
   },
   "outputs": [
    {
     "data": {
      "text/latex": [
       "$\\displaystyle \\left[\\begin{matrix}\\frac{- 4 \\left(1 + \\sqrt{3} i\\right)^{2} \\left(860608 + 1441 \\left(1 + \\sqrt{3} i\\right) \\sqrt[3]{5540482 + 3 \\sqrt{3412005031635}}\\right) \\left(5540482 + 3 \\sqrt{3412005031635}\\right) + 51437936 \\left(1 + \\sqrt{3} i\\right) \\left(5540482 + 3 \\sqrt{3412005031635}\\right)^{\\frac{2}{3}} - 19 \\left(-8924 + \\left(1 + \\sqrt{3} i\\right) \\left(130 + \\left(1 + \\sqrt{3} i\\right) \\sqrt[3]{5540482 + 3 \\sqrt{3412005031635}}\\right) \\sqrt[3]{5540482 + 3 \\sqrt{3412005031635}}\\right)^{2} \\sqrt[3]{5540482 + 3 \\sqrt{3412005031635}}}{6327984 \\left(1 + \\sqrt{3} i\\right)^{2} \\left(5540482 + 3 \\sqrt{3412005031635}\\right)} & \\frac{19 \\left(-8924 + \\left(1 - \\sqrt{3} i\\right) \\left(130 + \\left(1 - \\sqrt{3} i\\right) \\sqrt[3]{5540482 + 3 \\sqrt{3412005031635}}\\right) \\sqrt[3]{5540482 + 3 \\sqrt{3412005031635}}\\right)^{2} \\left(-1 + \\sqrt{3} i\\right) \\sqrt[3]{5540482 + 3 \\sqrt{3412005031635}} + 4 \\left(-860608 + 1441 \\left(-1 + \\sqrt{3} i\\right) \\sqrt[3]{5540482 + 3 \\sqrt{3412005031635}}\\right) \\left(1 - \\sqrt{3} i\\right)^{3} \\left(5540482 + 3 \\sqrt{3412005031635}\\right) + 51437936 \\left(1 - \\sqrt{3} i\\right)^{2} \\left(5540482 + 3 \\sqrt{3412005031635}\\right)^{\\frac{2}{3}}}{6327984 \\left(1 - \\sqrt{3} i\\right)^{3} \\left(5540482 + 3 \\sqrt{3412005031635}\\right)} & - \\frac{1338 \\sqrt{3412005031635} \\left(5540482 + 3 \\sqrt{3412005031635}\\right)^{\\frac{2}{3}}}{656180432713} - \\frac{19 \\sqrt{3412005031635} \\sqrt[3]{5540482 + 3 \\sqrt{3412005031635}}}{1176477692} - \\frac{856105}{1581996} + \\frac{58604735 \\sqrt[3]{5540482 + 3 \\sqrt{3412005031635}}}{1764716538} + \\frac{29558089805 \\left(5540482 + 3 \\sqrt{3412005031635}\\right)^{\\frac{2}{3}}}{7874165192556}\\\\\\frac{7 \\left(-8924 + \\left(1 + \\sqrt{3} i\\right) \\left(130 + \\left(1 + \\sqrt{3} i\\right) \\sqrt[3]{5540482 + 3 \\sqrt{3412005031635}}\\right) \\sqrt[3]{5540482 + 3 \\sqrt{3412005031635}}\\right)^{2} \\sqrt[3]{5540482 + 3 \\sqrt{3412005031635}} - 45 \\left(1 + \\sqrt{3} i\\right)^{2} \\left(3888 + 107 \\left(1 + \\sqrt{3} i\\right) \\sqrt[3]{5540482 + 3 \\sqrt{3412005031635}}\\right) \\left(5540482 + 3 \\sqrt{3412005031635}\\right) + 42969060 \\left(1 + \\sqrt{3} i\\right) \\left(5540482 + 3 \\sqrt{3412005031635}\\right)^{\\frac{2}{3}}}{2372994 \\left(1 + \\sqrt{3} i\\right)^{2} \\left(5540482 + 3 \\sqrt{3412005031635}\\right)} & \\frac{42969060 \\left(1 - \\sqrt{3} i\\right) \\left(5540482 + 3 \\sqrt{3412005031635}\\right)^{\\frac{2}{3}} + 45 \\left(-3888 + 107 \\left(-1 + \\sqrt{3} i\\right) \\sqrt[3]{5540482 + 3 \\sqrt{3412005031635}}\\right) \\left(1 - \\sqrt{3} i\\right)^{2} \\left(5540482 + 3 \\sqrt{3412005031635}\\right) + 7 \\left(-8924 + \\left(1 - \\sqrt{3} i\\right) \\left(130 + \\left(1 - \\sqrt{3} i\\right) \\sqrt[3]{5540482 + 3 \\sqrt{3412005031635}}\\right) \\sqrt[3]{5540482 + 3 \\sqrt{3412005031635}}\\right)^{2} \\sqrt[3]{5540482 + 3 \\sqrt{3412005031635}}}{2372994 \\left(1 - \\sqrt{3} i\\right)^{2} \\left(5540482 + 3 \\sqrt{3412005031635}\\right)} & - \\frac{2995 \\sqrt{3412005031635} \\left(5540482 + 3 \\sqrt{3412005031635}\\right)^{\\frac{2}{3}}}{1968541298139} - \\frac{23628301 \\sqrt[3]{5540482 + 3 \\sqrt{3412005031635}}}{882358269} - \\frac{30266}{395499} + \\frac{14 \\sqrt{3412005031635} \\sqrt[3]{5540482 + 3 \\sqrt{3412005031635}}}{882358269} + \\frac{5554475548 \\left(5540482 + 3 \\sqrt{3412005031635}\\right)^{\\frac{2}{3}}}{1968541298139}\\\\1 & 1 & 1\\end{matrix}\\right]$"
      ],
      "text/plain": [
       "Matrix([\n",
       "[(-4*(1 + sqrt(3)*I)**2*(860608 + 1441*(1 + sqrt(3)*I)*(5540482 + 3*sqrt(3412005031635))**(1/3))*(5540482 + 3*sqrt(3412005031635)) + 51437936*(1 + sqrt(3)*I)*(5540482 + 3*sqrt(3412005031635))**(2/3) - 19*(-8924 + (1 + sqrt(3)*I)*(130 + (1 + sqrt(3)*I)*(5540482 + 3*sqrt(3412005031635))**(1/3))*(5540482 + 3*sqrt(3412005031635))**(1/3))**2*(5540482 + 3*sqrt(3412005031635))**(1/3))/(6327984*(1 + sqrt(3)*I)**2*(5540482 + 3*sqrt(3412005031635))), (19*(-8924 + (1 - sqrt(3)*I)*(130 + (1 - sqrt(3)*I)*(5540482 + 3*sqrt(3412005031635))**(1/3))*(5540482 + 3*sqrt(3412005031635))**(1/3))**2*(-1 + sqrt(3)*I)*(5540482 + 3*sqrt(3412005031635))**(1/3) + 4*(-860608 + 1441*(-1 + sqrt(3)*I)*(5540482 + 3*sqrt(3412005031635))**(1/3))*(1 - sqrt(3)*I)**3*(5540482 + 3*sqrt(3412005031635)) + 51437936*(1 - sqrt(3)*I)**2*(5540482 + 3*sqrt(3412005031635))**(2/3))/(6327984*(1 - sqrt(3)*I)**3*(5540482 + 3*sqrt(3412005031635))), -1338*sqrt(3412005031635)*(5540482 + 3*sqrt(3412005031635))**(2/3)/656180432713 - 19*sqrt(3412005031635)*(5540482 + 3*sqrt(3412005031635))**(1/3)/1176477692 - 856105/1581996 + 58604735*(5540482 + 3*sqrt(3412005031635))**(1/3)/1764716538 + 29558089805*(5540482 + 3*sqrt(3412005031635))**(2/3)/7874165192556],\n",
       "[    (7*(-8924 + (1 + sqrt(3)*I)*(130 + (1 + sqrt(3)*I)*(5540482 + 3*sqrt(3412005031635))**(1/3))*(5540482 + 3*sqrt(3412005031635))**(1/3))**2*(5540482 + 3*sqrt(3412005031635))**(1/3) - 45*(1 + sqrt(3)*I)**2*(3888 + 107*(1 + sqrt(3)*I)*(5540482 + 3*sqrt(3412005031635))**(1/3))*(5540482 + 3*sqrt(3412005031635)) + 42969060*(1 + sqrt(3)*I)*(5540482 + 3*sqrt(3412005031635))**(2/3))/(2372994*(1 + sqrt(3)*I)**2*(5540482 + 3*sqrt(3412005031635))),                        (42969060*(1 - sqrt(3)*I)*(5540482 + 3*sqrt(3412005031635))**(2/3) + 45*(-3888 + 107*(-1 + sqrt(3)*I)*(5540482 + 3*sqrt(3412005031635))**(1/3))*(1 - sqrt(3)*I)**2*(5540482 + 3*sqrt(3412005031635)) + 7*(-8924 + (1 - sqrt(3)*I)*(130 + (1 - sqrt(3)*I)*(5540482 + 3*sqrt(3412005031635))**(1/3))*(5540482 + 3*sqrt(3412005031635))**(1/3))**2*(5540482 + 3*sqrt(3412005031635))**(1/3))/(2372994*(1 - sqrt(3)*I)**2*(5540482 + 3*sqrt(3412005031635))),     -2995*sqrt(3412005031635)*(5540482 + 3*sqrt(3412005031635))**(2/3)/1968541298139 - 23628301*(5540482 + 3*sqrt(3412005031635))**(1/3)/882358269 - 30266/395499 + 14*sqrt(3412005031635)*(5540482 + 3*sqrt(3412005031635))**(1/3)/882358269 + 5554475548*(5540482 + 3*sqrt(3412005031635))**(2/3)/1968541298139],\n",
       "[                                                                                                                                                                                                                                                                                                                                                                                                                                                         1,                                                                                                                                                                                                                                                                                                                                                                                                                                                                               1,                                                                                                                                                                                                                                                                                                                 1]])"
      ]
     },
     "execution_count": 12,
     "metadata": {},
     "output_type": "execute_result"
    }
   ],
   "source": [
    "P"
   ]
  },
  {
   "cell_type": "code",
   "execution_count": null,
   "metadata": {
    "colab": {
     "base_uri": "https://localhost:8080/",
     "height": 160
    },
    "id": "RKZxXO0ca32W",
    "outputId": "11128e89-de4f-4d44-e49b-0ed08f4f9f89"
   },
   "outputs": [
    {
     "data": {
      "text/latex": [
       "$\\displaystyle \\left[\\begin{matrix}- \\frac{65}{3} + \\left(- \\frac{1}{2} - \\frac{\\sqrt{3} i}{2}\\right) \\sqrt[3]{\\frac{5540482}{27} + \\frac{\\sqrt{3412005031635}}{9}} - \\frac{2231}{9 \\left(- \\frac{1}{2} - \\frac{\\sqrt{3} i}{2}\\right) \\sqrt[3]{\\frac{5540482}{27} + \\frac{\\sqrt{3412005031635}}{9}}} & 0 & 0\\\\0 & - \\frac{65}{3} - \\frac{2231}{9 \\left(- \\frac{1}{2} + \\frac{\\sqrt{3} i}{2}\\right) \\sqrt[3]{\\frac{5540482}{27} + \\frac{\\sqrt{3412005031635}}{9}}} + \\left(- \\frac{1}{2} + \\frac{\\sqrt{3} i}{2}\\right) \\sqrt[3]{\\frac{5540482}{27} + \\frac{\\sqrt{3412005031635}}{9}} & 0\\\\0 & 0 & - \\frac{65}{3} - \\frac{2231}{9 \\sqrt[3]{\\frac{5540482}{27} + \\frac{\\sqrt{3412005031635}}{9}}} + \\sqrt[3]{\\frac{5540482}{27} + \\frac{\\sqrt{3412005031635}}{9}}\\end{matrix}\\right]$"
      ],
      "text/plain": [
       "Matrix([\n",
       "[-65/3 + (-1/2 - sqrt(3)*I/2)*(5540482/27 + sqrt(3412005031635)/9)**(1/3) - 2231/(9*(-1/2 - sqrt(3)*I/2)*(5540482/27 + sqrt(3412005031635)/9)**(1/3)),                                                                                                                                                    0,                                                                                                          0],\n",
       "[                                                                                                                                                   0, -65/3 - 2231/(9*(-1/2 + sqrt(3)*I/2)*(5540482/27 + sqrt(3412005031635)/9)**(1/3)) + (-1/2 + sqrt(3)*I/2)*(5540482/27 + sqrt(3412005031635)/9)**(1/3),                                                                                                          0],\n",
       "[                                                                                                                                                   0,                                                                                                                                                    0, -65/3 - 2231/(9*(5540482/27 + sqrt(3412005031635)/9)**(1/3)) + (5540482/27 + sqrt(3412005031635)/9)**(1/3)]])"
      ]
     },
     "execution_count": 13,
     "metadata": {},
     "output_type": "execute_result"
    }
   ],
   "source": [
    "D"
   ]
  },
  {
   "cell_type": "code",
   "execution_count": null,
   "metadata": {
    "id": "R4nAlJC9a5lI"
   },
   "outputs": [],
   "source": [
    "def gauss_jordan(A):\n",
    "    f,c = A.shape\n",
    "\n",
    "    for i in range(min(f, c)):\n",
    "        if A[i, i] == 0:\n",
    "            for j in range(i + 1, f):\n",
    "                if A[j, i] != 0:\n",
    "                    A[[i, j]] = A[[j, i]]\n",
    "                    break\n",
    "\n",
    "        if A[i, i] == 0:\n",
    "            continue\n",
    "\n",
    "        A[i] = A[i] / A[i, i]\n",
    "\n",
    "        # Hacer ceros en la columna i\n",
    "        for j in range(f):\n",
    "            if j != i:\n",
    "                A[j] -= A[j, i] * A[i]\n",
    "\n",
    "    return A"
   ]
  },
  {
   "cell_type": "markdown",
   "metadata": {
    "id": "7HvW7DQrbcPS"
   },
   "source": [
    "\n",
    "\n",
    "\n",
    "3. **Diagonalización**.\n",
    "\n",
    "Se sabe que un sistema físico es gobernado por las ecuaciones,\n",
    "\n",
    "\n",
    "\n",
    "$$\n",
    "\\begin{matrix}\n",
    "x' &=& 2x&-y&+z, \\\\\n",
    "y' &=&   &3y&-1z, \\\\\n",
    "z' &=& 2x&+y&+3z,\n",
    "\\end{matrix}\n",
    "$$\n",
    "\n",
    "donde $x',y',z'$ son las derivadas, en forma vectorial esto se puede representar como $\\mathbf{r}'=A\\mathbf{r}$ que tiene solución analítica general, $\\mathbf{r} = e^{At} \\mathbf{r}(0)$.<br>\n",
    "a) Diagonalize $A$.<br>\n",
    "\n",
    "\n"
   ]
  },
  {
   "cell_type": "code",
   "execution_count": null,
   "metadata": {
    "colab": {
     "base_uri": "https://localhost:8080/",
     "height": 585
    },
    "id": "i-gJ9X-abcqU",
    "outputId": "275a21dd-8a1d-48e4-ab7d-96d26c938062"
   },
   "outputs": [
    {
     "name": "stdout",
     "output_type": "stream",
     "text": [
      " La matriz dada solo tiene  dos vectores propios, no es diagonalizable\n"
     ]
    },
    {
     "data": {
      "text/latex": [
       "$\\displaystyle \\left[ \\left( 2, \\  2, \\  \\left[ \\left[\\begin{matrix}-1\\\\1\\\\1\\end{matrix}\\right]\\right]\\right), \\  \\left( 4, \\  1, \\  \\left[ \\left[\\begin{matrix}1\\\\-1\\\\1\\end{matrix}\\right]\\right]\\right)\\right]$"
      ],
      "text/plain": [
       "⎡⎛      ⎡⎡-1⎤⎤⎞  ⎛      ⎡⎡1 ⎤⎤⎞⎤\n",
       "⎢⎜      ⎢⎢  ⎥⎥⎟  ⎜      ⎢⎢  ⎥⎥⎟⎥\n",
       "⎢⎜2, 2, ⎢⎢1 ⎥⎥⎟, ⎜4, 1, ⎢⎢-1⎥⎥⎟⎥\n",
       "⎢⎜      ⎢⎢  ⎥⎥⎟  ⎜      ⎢⎢  ⎥⎥⎟⎥\n",
       "⎣⎝      ⎣⎣1 ⎦⎦⎠  ⎝      ⎣⎣1 ⎦⎦⎠⎦"
      ]
     },
     "metadata": {},
     "output_type": "display_data"
    },
    {
     "name": "stdout",
     "output_type": "stream",
     "text": [
      "\n",
      "  Nueva matriz a diagonalizar\n"
     ]
    },
    {
     "data": {
      "text/latex": [
       "$\\displaystyle \\left[\\begin{matrix}a & b & c\\\\b & c & b\\\\c & b & a\\end{matrix}\\right]$"
      ],
      "text/plain": [
       "⎡a  b  c⎤\n",
       "⎢       ⎥\n",
       "⎢b  c  b⎥\n",
       "⎢       ⎥\n",
       "⎣c  b  a⎦"
      ]
     },
     "metadata": {},
     "output_type": "display_data"
    },
    {
     "name": "stdout",
     "output_type": "stream",
     "text": [
      "\n",
      " Valores propios\n"
     ]
    },
    {
     "data": {
      "text/latex": [
       "$\\displaystyle \\left\\{ a - c : 1, \\  \\frac{a}{2} + c - \\frac{\\sqrt{a^{2} + 8 b^{2}}}{2} : 1, \\  \\frac{a}{2} + c + \\frac{\\sqrt{a^{2} + 8 b^{2}}}{2} : 1\\right\\}$"
      ],
      "text/plain": [
       "⎧                     ___________                ___________   ⎫\n",
       "⎪                    ╱  2      2                ╱  2      2    ⎪\n",
       "⎨          a       ╲╱  a  + 8⋅b       a       ╲╱  a  + 8⋅b     ⎬\n",
       "⎪a - c: 1, ─ + c - ──────────────: 1, ─ + c + ──────────────: 1⎪\n",
       "⎩          2             2            2             2          ⎭"
      ]
     },
     "metadata": {},
     "output_type": "display_data"
    },
    {
     "name": "stdout",
     "output_type": "stream",
     "text": [
      "\n",
      " Matriz de vectores propios\n"
     ]
    },
    {
     "data": {
      "text/latex": [
       "$\\displaystyle \\left[\\begin{matrix}-1 & 1 & 1\\\\0 & \\frac{- a - c}{b} + \\frac{\\frac{a}{2} + c - \\frac{\\sqrt{a^{2} + 8 b^{2}}}{2}}{b} & \\frac{- a - c}{b} + \\frac{\\frac{a}{2} + c + \\frac{\\sqrt{a^{2} + 8 b^{2}}}{2}}{b}\\\\1 & 1 & 1\\end{matrix}\\right]$"
      ],
      "text/plain": [
       "⎡-1                 1                                1               ⎤\n",
       "⎢                                                                    ⎥\n",
       "⎢                        ___________                      ___________⎥\n",
       "⎢                       ╱  2      2                      ╱  2      2 ⎥\n",
       "⎢             a       ╲╱  a  + 8⋅b             a       ╲╱  a  + 8⋅b  ⎥\n",
       "⎢             ─ + c - ──────────────           ─ + c + ──────────────⎥\n",
       "⎢    -a - c   2             2         -a - c   2             2       ⎥\n",
       "⎢0   ────── + ──────────────────────  ────── + ──────────────────────⎥\n",
       "⎢      b                b               b                b           ⎥\n",
       "⎢                                                                    ⎥\n",
       "⎣1                  1                                1               ⎦"
      ]
     },
     "metadata": {},
     "output_type": "display_data"
    },
    {
     "name": "stdout",
     "output_type": "stream",
     "text": [
      "\n",
      " Matriz diagonal\n"
     ]
    },
    {
     "data": {
      "text/latex": [
       "$\\displaystyle \\left[\\begin{matrix}a - c & 0 & 0\\\\0 & \\frac{a}{2} + c - \\frac{\\sqrt{a^{2} + 8 b^{2}}}{2} & 0\\\\0 & 0 & \\frac{a}{2} + c + \\frac{\\sqrt{a^{2} + 8 b^{2}}}{2}\\end{matrix}\\right]$"
      ],
      "text/plain": [
       "⎡a - c            0                       0           ⎤\n",
       "⎢                                                     ⎥\n",
       "⎢                  ___________                        ⎥\n",
       "⎢                 ╱  2      2                         ⎥\n",
       "⎢       a       ╲╱  a  + 8⋅b                          ⎥\n",
       "⎢  0    ─ + c - ──────────────            0           ⎥\n",
       "⎢       2             2                               ⎥\n",
       "⎢                                                     ⎥\n",
       "⎢                                          ___________⎥\n",
       "⎢                                         ╱  2      2 ⎥\n",
       "⎢                               a       ╲╱  a  + 8⋅b  ⎥\n",
       "⎢  0              0             ─ + c + ──────────────⎥\n",
       "⎣                               2             2       ⎦"
      ]
     },
     "metadata": {},
     "output_type": "display_data"
    },
    {
     "name": "stdout",
     "output_type": "stream",
     "text": [
      "\n",
      " diagonalizacion\n"
     ]
    },
    {
     "data": {
      "text/latex": [
       "$\\displaystyle \\left[\\begin{matrix}a & b & c\\\\b & c & b\\\\c & b & a\\end{matrix}\\right]$"
      ],
      "text/plain": [
       "⎡a  b  c⎤\n",
       "⎢       ⎥\n",
       "⎢b  c  b⎥\n",
       "⎢       ⎥\n",
       "⎣c  b  a⎦"
      ]
     },
     "metadata": {},
     "output_type": "display_data"
    }
   ],
   "source": [
    "from sys import builtin_module_names\n",
    "import numpy as np\n",
    "sp.init_printing(use_latex='mathjax')\n",
    "\n",
    "A = sp.Matrix([[2, -1, 1], [0, 3, -1], [2, 1, 3]])\n",
    "\n",
    "val=A.eigenvals()\n",
    "\n",
    "vec=A.eigenvects()\n",
    "#La matriz A dada solo tiene dos vectores propios, por lo que no es diagonalizable\n",
    "a=sp.Symbol(\"a\")\n",
    "b=sp.Symbol(\"b\")\n",
    "c=sp.Symbol(\"c\")\n",
    "B= sp.Matrix([[a,b,c],[b,c,b],[c,b,a]])\n",
    "Bval=B.eigenvals()\n",
    "D=sp.diag(*Bval)\n",
    "P = sp.Matrix.hstack(B.eigenvects()[0][2][0], B.eigenvects()[1][2][0],B.eigenvects()[2][2][0])\n",
    "P_inv=P.inv()\n",
    "B_new=P*D*P_inv\n",
    "\n",
    "B_new.simplify()\n",
    "B_new\n",
    "\n",
    "print(\" La matriz dada solo tiene  dos vectores propios, no es diagonalizable\")\n",
    "display(vec)\n",
    "print(\"\\n  Nueva matriz a diagonalizar\")\n",
    "display(B)\n",
    "print(\"\\n Valores propios\")\n",
    "display(Bval)\n",
    "print(\"\\n Matriz de vectores propios\")\n",
    "display(P)\n",
    "print(\"\\n Matriz diagonal\")\n",
    "display(D)\n",
    "\n",
    "print(\"\\n diagonalizacion\")\n",
    "display(B_new)"
   ]
  }
 ],
 "metadata": {
  "colab": {
   "provenance": []
  },
  "kernelspec": {
   "display_name": "Python 3 (ipykernel)",
   "language": "python",
   "name": "python3"
  },
  "language_info": {
   "codemirror_mode": {
    "name": "ipython",
    "version": 3
   },
   "file_extension": ".py",
   "mimetype": "text/x-python",
   "name": "python",
   "nbconvert_exporter": "python",
   "pygments_lexer": "ipython3",
   "version": "3.10.9"
  }
 },
 "nbformat": 4,
 "nbformat_minor": 1
}
