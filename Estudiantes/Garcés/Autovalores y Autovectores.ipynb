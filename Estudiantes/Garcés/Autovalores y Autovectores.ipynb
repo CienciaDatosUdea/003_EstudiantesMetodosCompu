{
 "cells": [
  {
   "cell_type": "code",
   "execution_count": 1,
   "metadata": {
    "executionInfo": {
     "elapsed": 13414,
     "status": "ok",
     "timestamp": 1740435691581,
     "user": {
      "displayName": "JUAN FELIPE GARC�S CARVAJAL",
      "userId": "08534102069571728530"
     },
     "user_tz": 300
    },
    "id": "EKWdx4nuDG3o"
   },
   "outputs": [],
   "source": [
    "import numpy as np\n",
    "import matplotlib.pylab as plt\n",
    "import sympy as sy"
   ]
  },
  {
   "cell_type": "code",
   "execution_count": 2,
   "metadata": {
    "executionInfo": {
     "elapsed": 5,
     "status": "ok",
     "timestamp": 1740435770917,
     "user": {
      "displayName": "JUAN FELIPE GARC�S CARVAJAL",
      "userId": "08534102069571728530"
     },
     "user_tz": 300
    },
    "id": "3y0hB3NqC__p"
   },
   "outputs": [],
   "source": [
    "def identity_matrix(n):\n",
    "    return [[1 if i == j else 0 for j in range(n)] for i in range(n)]\n",
    "\n",
    "def polinomio_caracteristico(A):\n",
    "    m, n = np.shape(A)\n",
    "    I = identity_matrix(m)\n",
    "    eigenvals = sy.Symbol(\"lambda\")\n",
    "    Am = sy.Matrix(A)\n",
    "    Im = sy.Matrix(I)\n",
    "    poly = sy.det(Am - eigenvals * Im)\n",
    "    return poly\n",
    "\n",
    "def eigenvalues(A):\n",
    "    poly = polinomio_caracteristico(A)\n",
    "    return list(sy.roots(poly).keys())\n",
    "\n",
    "def eigenvectors(A):\n",
    "    Am = sy.Matrix(A)\n",
    "    eigenvals = eigenvalues(A)\n",
    "    eigenvectors_dict = {}\n",
    "\n",
    "    for eigenval in eigenvals:\n",
    "        null_space = (Am - eigenval * sy.eye(Am.shape[0])).nullspace()\n",
    "        eigenvectors_dict[eigenval] = [v.evalf() for v in null_space]\n",
    "\n",
    "    return eigenvectors_dict"
   ]
  },
  {
   "cell_type": "code",
   "execution_count": 3,
   "metadata": {
    "colab": {
     "base_uri": "https://localhost:8080/",
     "height": 98
    },
    "executionInfo": {
     "elapsed": 13,
     "status": "ok",
     "timestamp": 1740435743068,
     "user": {
      "displayName": "JUAN FELIPE GARC�S CARVAJAL",
      "userId": "08534102069571728530"
     },
     "user_tz": 300
    },
    "id": "HnssqFqgDTrd",
    "outputId": "6375c2a1-11e8-4789-820b-a2e956150396"
   },
   "outputs": [
    {
     "data": {
      "text/latex": [
       "$\\displaystyle \\left[\\begin{matrix}10.0 & 5.0 & 16.0 & 1.0\\\\18.0 & 17.0 & 18.0 & 9.0\\\\10.0 & 1.0 & 11.0 & 9.0\\\\5.0 & 17.0 & 5.0 & 16.0\\end{matrix}\\right]$"
      ],
      "text/plain": [
       "Matrix([\n",
       "[10.0,  5.0, 16.0,  1.0],\n",
       "[18.0, 17.0, 18.0,  9.0],\n",
       "[10.0,  1.0, 11.0,  9.0],\n",
       "[ 5.0, 17.0,  5.0, 16.0]])"
      ]
     },
     "metadata": {},
     "output_type": "display_data"
    }
   ],
   "source": [
    "np.random.seed(10)\n",
    "A = 1.0*np.random.randint(1,20, (4,4))\n",
    "display(sy.Matrix(A))"
   ]
  },
  {
   "cell_type": "code",
   "execution_count": 4,
   "metadata": {
    "colab": {
     "base_uri": "https://localhost:8080/"
    },
    "executionInfo": {
     "elapsed": 15,
     "status": "ok",
     "timestamp": 1740435848616,
     "user": {
      "displayName": "JUAN FELIPE GARC�S CARVAJAL",
      "userId": "08534102069571728530"
     },
     "user_tz": 300
    },
    "id": "ANaQ8etfD3KT",
    "outputId": "91755ff3-c5df-405e-c1a7-d892e5afd5e3"
   },
   "outputs": [
    {
     "data": {
      "text/plain": [
       "EigResult(eigenvalues=array([40.49612307+0.j        , -3.61433444+0.j        ,\n",
       "        8.55910569+6.76446514j,  8.55910569-6.76446514j]), eigenvectors=array([[-0.29103232+0.j        , -0.7645808 +0.j        ,\n",
       "        -0.44026791+0.05933438j, -0.44026791-0.05933438j],\n",
       "       [-0.68394436+0.j        ,  0.20935315+0.j        ,\n",
       "        -0.20024773+0.36366518j, -0.20024773-0.36366518j],\n",
       "       [-0.3037243 +0.j        ,  0.59377507+0.j        ,\n",
       "         0.03137447-0.30512484j,  0.03137447+0.30512484j],\n",
       "       [-0.59604686+0.j        , -0.13790806+0.j        ,\n",
       "         0.73226126+0.j        ,  0.73226126-0.j        ]]))"
      ]
     },
     "execution_count": 4,
     "metadata": {},
     "output_type": "execute_result"
    }
   ],
   "source": [
    "np.linalg.eig(A)"
   ]
  },
  {
   "cell_type": "code",
   "execution_count": 5,
   "metadata": {
    "colab": {
     "base_uri": "https://localhost:8080/"
    },
    "executionInfo": {
     "elapsed": 179,
     "status": "ok",
     "timestamp": 1740435982951,
     "user": {
      "displayName": "JUAN FELIPE GARC�S CARVAJAL",
      "userId": "08534102069571728530"
     },
     "user_tz": 300
    },
    "id": "b6wPdZbDDfD5",
    "outputId": "92bbfde9-a47b-4851-e189-992a897b6c91"
   },
   "outputs": [
    {
     "name": "stdout",
     "output_type": "stream",
     "text": [
      "[-3.61433443856531, 40.4961230680255, 8.55910568526988 - 6.7644651391558*I, 8.55910568526988 + 6.7644651391558*I]\n",
      "Autovectores:\n",
      "Para λ = -3.61433443856531:\n",
      "Para λ = 40.4961230680255:\n",
      "Para λ = 8.55910568526988 - 6.7644651391558*I:\n",
      "Para λ = 8.55910568526988 + 6.7644651391558*I:\n"
     ]
    }
   ],
   "source": [
    "print(eigenvalues(A))\n",
    "\n",
    "eigenvects = eigenvectors(A)\n",
    "\n",
    "print(\"Autovectores:\")\n",
    "for val, vects in eigenvects.items():\n",
    "    print(f\"Para \\u03bb = {val}:\")\n",
    "    for v in vects:\n",
    "        print(v)"
   ]
  },
  {
   "cell_type": "code",
   "execution_count": null,
   "metadata": {},
   "outputs": [],
   "source": []
  }
 ],
 "metadata": {
  "colab": {
   "authorship_tag": "ABX9TyMpimVlkEKG2X6DWuifjR5B",
   "provenance": []
  },
  "kernelspec": {
   "display_name": "Python 3 (ipykernel)",
   "language": "python",
   "name": "python3"
  },
  "language_info": {
   "codemirror_mode": {
    "name": "ipython",
    "version": 3
   },
   "file_extension": ".py",
   "mimetype": "text/x-python",
   "name": "python",
   "nbconvert_exporter": "python",
   "pygments_lexer": "ipython3",
   "version": "3.10.9"
  }
 },
 "nbformat": 4,
 "nbformat_minor": 1
}
