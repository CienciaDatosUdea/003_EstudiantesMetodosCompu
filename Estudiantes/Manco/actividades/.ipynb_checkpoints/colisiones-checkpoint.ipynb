{
 "cells": [
  {
   "cell_type": "markdown",
   "metadata": {},
   "source": [
    "# Ecuaciones para la colisión elástica de dos bloques\n",
    "\n",
    "En una colisión elástica entre dos bloques, las velocidades después de la colisión se determinan a partir de los principios de **conservación del momento lineal** y **conservación de la energía cinética**.\n",
    "\n",
    "## Variables\n",
    "- $ m_1 $: Masa del bloque 1.\n",
    "- $ m_2 $: Masa del bloque 2.\n",
    "- $ v_1 $: Velocidad inicial del bloque 1.\n",
    "- $ v_2 $: Velocidad inicial del bloque 2.\n",
    "- $ v_1' $: Velocidad del bloque 1 después de la colisión.\n",
    "- $ v_2' $: Velocidad del bloque 2 después de la colisión.\n",
    "\n",
    "## 1. Conservación del momento lineal\n",
    "\\begin{equation}\n",
    "m_1 v_1 + m_2 v_2 = m_1 v_1' + m_2 v_2'\n",
    "\\end{equation}\n",
    "\n",
    "## 2. Conservación de la energía cinética\n",
    "\\begin{equation}\n",
    "\\frac{1}{2} m_1 v_1^2 + \\frac{1}{2} m_2 v_2^2 = \\frac{1}{2} m_1 {v_1'}^2 + \\frac{1}{2} m_2 {v_2'}^2\n",
    "\\end{equation}\n",
    "\n",
    "## 3. Velocidades después de la colisión\n",
    "Resolviendo las ecuaciones anteriores, las velocidades después de la colisión son:\n",
    "\n",
    "\\begin{equation}\n",
    "v_1' = \\frac{(m_1 - m_2) v_1 + 2 m_2 v_2}{m_1 + m_2}\n",
    "\\end{equation}\n",
    "\n",
    "\\begin{equation}\n",
    "v_2' = \\frac{(m_2 - m_1) v_2 + 2 m_1 v_1}{m_1 + m_2}\n",
    "\\end{equation}\n"
   ]
  },
  {
   "cell_type": "code",
   "execution_count": null,
   "metadata": {},
   "outputs": [],
   "source": [
    "!pip install"
   ]
  },
  {
   "cell_type": "code",
   "execution_count": 3,
   "metadata": {},
   "outputs": [],
   "source": [
    "#%matplotlib ipympl\n",
    "import numpy as np\n",
    "import matplotlib.pyplot as plt\n",
    "import matplotlib.animation as animation"
   ]
  },
  {
   "cell_type": "code",
   "execution_count": 4,
   "metadata": {},
   "outputs": [
    {
     "name": "stdout",
     "output_type": "stream",
     "text": [
      "3\n",
      "31\n",
      "314\n",
      "3141\n",
      "31415\n",
      "314159\n"
     ]
    },
    {
     "data": {
      "image/png": "[encoded data removed]",
      "text/plain": [
       "<Figure size 800x300 with 1 Axes>"
      ]
     },
     "metadata": {},
     "output_type": "display_data"
    }
   ],
   "source": [
    "def collision(m1, m2, v1, v2):\n",
    "    v1f = (2 * m2 * v2 + (m1 - m2) * v1) / (m1 + m2)\n",
    "    v2f = (2 * m1 * v1 + (m2 - m1) * v2) / (m1 + m2)\n",
    "    return v1f, v2f\n",
    "\n",
    "\n",
    "def simulate(m1, m2, x1, x2, v1, v2, Nmax=1000000, dt=0.01):\n",
    "    trace = []\n",
    "    collisions = 0\n",
    "\n",
    "    for _ in range(Nmax):\n",
    "        x1 += v1 * dt\n",
    "        x2 += v2 * dt\n",
    "\n",
    "\n",
    "        if x1 <= 0:\n",
    "            x1 = 0\n",
    "            v1 *= -1\n",
    "            collisions += 1\n",
    "\n",
    "        if x1 >= x2:\n",
    "            x1 = x2\n",
    "            v1, v2 = collision(m1, m2, v1, v2)\n",
    "            collisions += 1\n",
    "\n",
    "\n",
    "        trace.append([x1, x2, collisions])\n",
    "        if v1 > v2 or v1 <= 0:\n",
    "            continue\n",
    "        else:\n",
    "            break\n",
    "\n",
    "    return trace\n",
    "\n",
    "\n",
    "# Parámetros de ejemplo\n",
    "\n",
    "digits = list(range(1, 7))\n",
    "estimated_collisions = []\n",
    "\n",
    "for d in digits:\n",
    "    m1 = 1\n",
    "    m2 = 100 ** (d - 1)\n",
    "    x1 = 1\n",
    "    x2 = 10\n",
    "    v1 = 0\n",
    "    v2 = -2\n",
    "\n",
    "    trace = simulate(m1, m2, x1, x2, v1, v2)\n",
    "    cols = trace[-1][2]\n",
    "    print(cols)\n",
    "\n",
    "\n",
    "m1 = 1\n",
    "m2 = 10000 \n",
    "x1 = 1\n",
    "x2 = 4\n",
    "v1 = 0\n",
    "v2 = -2\n",
    "\n",
    "trace = simulate(m1, m2, x1, x2, v1, v2)\n",
    "\n",
    "fig, ax = plt.subplots(figsize=(8, 3))\n",
    "ax.set_xlim(-1, 12)\n",
    "ax.set_ylim(0, 0.5)\n",
    "ax.set_aspect(\"equal\")\n",
    "ax.set_title(\"Simulación de colisiones (aproximando π)\")\n",
    "\n",
    "block1 = plt.Rectangle((x1, 0), 1, 1, color=\"blue\")\n",
    "block2 = plt.Rectangle((x2, 0), 1, 1, color=\"red\")\n",
    "ax.add_patch(block1)\n",
    "ax.add_patch(block2)\n",
    "\n",
    "collision_text = ax.text(6, 1.7, \"\", fontsize=12)\n",
    "\n",
    "\n",
    "def animate(i):\n",
    "    if i >= len(trace):\n",
    "        print(f\"Simulación terminada en {trace[-1][2]} colisiones\")\n",
    "        return\n",
    "    x1, x2, collisions = trace[i]\n",
    "    block1.set_x(x1)\n",
    "    block2.set_x(x2)\n",
    "    collision_text.set_text(f\"Colisiones: {collisions}\")\n",
    "    return block1, block2, collision_text\n",
    "\n",
    "\n",
    "ani = animation.FuncAnimation(fig, animate, frames=len(trace),interval=20)\n",
    "plt.show()"
   ]
  },
  {
   "cell_type": "code",
   "execution_count": null,
   "metadata": {},
   "outputs": [],
   "source": []
  },
  {
   "cell_type": "code",
   "execution_count": null,
   "metadata": {},
   "outputs": [],
   "source": []
  }
 ],
 "metadata": {
  "kernelspec": {
   "display_name": "Python 3 (ipykernel)",
   "language": "python",
   "name": "python3"
  },
  "language_info": {
   "codemirror_mode": {
    "name": "ipython",
    "version": 3
   },
   "file_extension": ".py",
   "mimetype": "text/x-python",
   "name": "python",
   "nbconvert_exporter": "python",
   "pygments_lexer": "ipython3",
   "version": "3.10.9"
  }
 },
 "nbformat": 4,
 "nbformat_minor": 4
}
